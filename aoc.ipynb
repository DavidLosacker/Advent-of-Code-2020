{
 "cells": [
  {
   "cell_type": "markdown",
   "metadata": {},
   "source": [
    "# Day 1"
   ]
  },
  {
   "cell_type": "code",
   "execution_count": null,
   "metadata": {},
   "outputs": [],
   "source": [
    "with open(\"Day_1_list.txt\", \"r\") as f:\n",
    "    information = f.read()"
   ]
  },
  {
   "cell_type": "code",
   "execution_count": 5,
   "metadata": {},
   "outputs": [],
   "source": [
    "info_list = information.split('\\n')"
   ]
  },
  {
   "cell_type": "code",
   "execution_count": 8,
   "metadata": {},
   "outputs": [
    {
     "name": "stdout",
     "output_type": "stream",
     "text": [
      "1917 103\n",
      "197451\n",
      "103 1917\n",
      "197451\n"
     ]
    }
   ],
   "source": [
    "for information_1 in info_list:\n",
    "    for information_2 in info_list:\n",
    "        if int(information_1) + int(information_2) == 2020:\n",
    "            print(information_1, information_2)\n",
    "            print(int(information_1) * int(information_2))\n",
    "            "
   ]
  },
  {
   "cell_type": "code",
   "execution_count": 10,
   "metadata": {},
   "outputs": [
    {
     "name": "stdout",
     "output_type": "stream",
     "text": [
      "443 232 1345\n",
      "138233720\n",
      "443 1345 232\n",
      "138233720\n",
      "232 443 1345\n",
      "138233720\n",
      "232 1345 443\n",
      "138233720\n",
      "1345 443 232\n",
      "138233720\n",
      "1345 232 443\n",
      "138233720\n"
     ]
    }
   ],
   "source": [
    "for information_1 in info_list:\n",
    "    for information_2 in info_list:\n",
    "        for information_3 in info_list:\n",
    "            if int(information_1) + int(information_2) + int(information_3) == 2020:\n",
    "                print(information_1, information_2, information_3)\n",
    "                print(int(information_1) * int(information_2) * int(information_3))"
   ]
  },
  {
   "cell_type": "markdown",
   "metadata": {},
   "source": [
    "# Day 2"
   ]
  },
  {
   "cell_type": "code",
   "execution_count": 2,
   "metadata": {},
   "outputs": [],
   "source": [
    "with open(\"Day_2_list.txt\", \"r\") as f:\n",
    "    passwords = f.read()\n",
    "    \n",
    "password_list = passwords.split('\\n')"
   ]
  },
  {
   "cell_type": "code",
   "execution_count": 23,
   "metadata": {},
   "outputs": [
    {
     "name": "stdout",
     "output_type": "stream",
     "text": [
      "620\n"
     ]
    }
   ],
   "source": [
    "counter = 0\n",
    "\n",
    "for password in password_list:\n",
    "    letter_min = int(password.split('-')[0])\n",
    "    letter_max = int(password.split('-')[1].split(' ')[0])\n",
    "    letter = password.split('-')[1].split(' ')[1][0]\n",
    "    password_string = password.split(':')[1]\n",
    "    character_counter = 0\n",
    "    for character in password_string:\n",
    "        if letter == character:\n",
    "            character_counter += 1\n",
    "    if character_counter >= letter_min and character_counter <= letter_max:\n",
    "        counter += 1\n",
    "print(counter)\n"
   ]
  },
  {
   "cell_type": "code",
   "execution_count": 5,
   "metadata": {
    "scrolled": true
   },
   "outputs": [
    {
     "name": "stdout",
     "output_type": "stream",
     "text": [
      "727\n"
     ]
    }
   ],
   "source": [
    "counter = 0\n",
    "\n",
    "for password in password_list:\n",
    "    letter_min = int(password.split('-')[0])\n",
    "    letter_max = int(password.split('-')[1].split(' ')[0])\n",
    "    letter = password.split('-')[1].split(' ')[1][0]\n",
    "    password_string = password.split(':')[1]\n",
    "    if ((password_string[letter_min] == letter) != (password_string[letter_max] == letter)):\n",
    "        counter += 1\n",
    "        \n",
    "print(counter)"
   ]
  },
  {
   "cell_type": "markdown",
   "metadata": {},
   "source": [
    "# Day 3"
   ]
  },
  {
   "cell_type": "code",
   "execution_count": 8,
   "metadata": {},
   "outputs": [],
   "source": [
    "with open(\"Day_3_list.txt\", \"r\") as f:\n",
    "    tree_map = f.read()"
   ]
  },
  {
   "cell_type": "code",
   "execution_count": 10,
   "metadata": {},
   "outputs": [],
   "source": [
    "tree_map_list = tree_map.split('\\n')"
   ]
  },
  {
   "cell_type": "code",
   "execution_count": 48,
   "metadata": {},
   "outputs": [
    {
     "name": "stdout",
     "output_type": "stream",
     "text": [
      "148\n"
     ]
    }
   ],
   "source": [
    "downway = 1\n",
    "rightway = 3\n",
    "\n",
    "right = 0\n",
    "trees = 0\n",
    "for elem in tree_map_list[::downway]:\n",
    "    if elem[right % len(elem)] == '#':\n",
    "        trees += 1\n",
    "    right += rightway\n",
    "print(trees)\n",
    "    "
   ]
  },
  {
   "cell_type": "code",
   "execution_count": 49,
   "metadata": {},
   "outputs": [],
   "source": [
    "def get_trees(rightway, downway):\n",
    "    right = 0\n",
    "    trees = 0\n",
    "    for elem in tree_map_list[::downway]:\n",
    "        if elem[right % len(elem)] == '#':\n",
    "            trees += 1\n",
    "        right += rightway\n",
    "    return trees"
   ]
  },
  {
   "cell_type": "code",
   "execution_count": 50,
   "metadata": {},
   "outputs": [
    {
     "name": "stdout",
     "output_type": "stream",
     "text": [
      "727923200\n"
     ]
    }
   ],
   "source": [
    "total_trees_mult = 1\n",
    "for right, down in [(1, 1), (3, 1), (5, 1), (7, 1), (1, 2)]:\n",
    "    total_trees_mult *= get_trees(right, down)\n",
    "print(total_trees_mult)"
   ]
  },
  {
   "cell_type": "markdown",
   "metadata": {},
   "source": [
    "# Day 4"
   ]
  },
  {
   "cell_type": "code",
   "execution_count": 103,
   "metadata": {},
   "outputs": [],
   "source": [
    "import re"
   ]
  },
  {
   "cell_type": "code",
   "execution_count": 83,
   "metadata": {},
   "outputs": [],
   "source": [
    "required = [\"byr\", \"iyr\", \"eyr\", \"hgt\", \"hcl\", \"ecl\", \"pid\"]\n",
    "optional = [\"cid\"]"
   ]
  },
  {
   "cell_type": "code",
   "execution_count": 178,
   "metadata": {},
   "outputs": [],
   "source": [
    "with open(\"Day_4_list.txt\") as f:\n",
    "    passports = f.readlines()"
   ]
  },
  {
   "cell_type": "code",
   "execution_count": 179,
   "metadata": {},
   "outputs": [
    {
     "name": "stdout",
     "output_type": "stream",
     "text": [
      "245\n"
     ]
    }
   ],
   "source": [
    "clean_passports = []\n",
    "new_dic = {}\n",
    "for line in passports:\n",
    "    if line != '\\n':\n",
    "        key_value = line.split(' ')\n",
    "        for i, elem in enumerate(key_value):\n",
    "            if i == len(key_value) -1:\n",
    "                new_dic[elem.split(':')[0]] = elem.split(':')[1].replace('\\n', '')\n",
    "            else:\n",
    "                new_dic[elem.split(':')[0]] = elem.split(':')[1]\n",
    "    else:\n",
    "        clean_passports.append(new_dic)\n",
    "        new_dic = {}\n",
    "\n",
    "clean_passports.append(new_dic)        \n",
    "        \n",
    "valid = 0\n",
    "valid_passports = []\n",
    "for passport in clean_passports:\n",
    "    if set(passport) >= set(required):\n",
    "        valid += 1\n",
    "        valid_passports.append(passport)\n",
    "print(valid)"
   ]
  },
  {
   "cell_type": "code",
   "execution_count": 180,
   "metadata": {},
   "outputs": [
    {
     "name": "stdout",
     "output_type": "stream",
     "text": [
      "Invalid height format\n",
      "133\n"
     ]
    }
   ],
   "source": [
    "counter = 0\n",
    "for passport in valid_passports:\n",
    "    try:\n",
    "        if int(passport['byr']) >= 1920 and int(passport['byr']) <= 2002:\n",
    "            if int(passport['iyr']) >= 2010 and int(passport['iyr']) <= 2020:\n",
    "                if int(passport['eyr']) >= 2020 and int(passport['eyr']) <= 2030:\n",
    "                    try:\n",
    "                        height = int((passport['hgt'])[0:-2])\n",
    "                        if (passport['hgt'][-2:] == 'cm' and height <= 193 and height >= 150) or (passport['hgt'][-2:] == 'in' and height <= 76 and height >= 59):                            \n",
    "                            if passport['ecl'] in [\"amb\", \"blu\", \"brn\", \"gry\", \"grn\", \"hzl\", \"oth\"]:\n",
    "                                if re.fullmatch(r\"#+[0-9a-f]{6}\", passport['hcl']):\n",
    "                                    if len(passport['pid']) == 9:\n",
    "                                        counter += 1\n",
    "                                    \n",
    "                    except:\n",
    "                        print('Invalid height format')\n",
    "                        \n",
    "    except:\n",
    "        print('Invalid data type')\n",
    "\n",
    "\n",
    "print(counter)"
   ]
  },
  {
   "cell_type": "markdown",
   "metadata": {},
   "source": [
    "# Day 5"
   ]
  },
  {
   "cell_type": "code",
   "execution_count": 3,
   "metadata": {},
   "outputs": [],
   "source": [
    "with open(\"Day_5_list.txt\", 'r') as f:\n",
    "    seats = f.read()"
   ]
  },
  {
   "cell_type": "code",
   "execution_count": 5,
   "metadata": {},
   "outputs": [],
   "source": [
    "seat_list = seats.split('\\n')"
   ]
  },
  {
   "cell_type": "code",
   "execution_count": 36,
   "metadata": {},
   "outputs": [],
   "source": [
    "parser = {\n",
    "    \"F\" : 0,\n",
    "    \"B\" : 1,\n",
    "    \"R\" : 1,\n",
    "    \"L\" : 0\n",
    "}"
   ]
  },
  {
   "cell_type": "code",
   "execution_count": 43,
   "metadata": {},
   "outputs": [],
   "source": [
    "def seat_parser(seat):\n",
    "    row = 0\n",
    "    column = 0\n",
    "    for i, letter in enumerate(seat):\n",
    "        if i <= 6:\n",
    "            row += parser[letter] * 2**(6-i)\n",
    "        else:\n",
    "            column += parser[letter] * 2**(9-i)            \n",
    "    return row, column"
   ]
  },
  {
   "cell_type": "code",
   "execution_count": 44,
   "metadata": {},
   "outputs": [
    {
     "name": "stdout",
     "output_type": "stream",
     "text": [
      "880\n"
     ]
    }
   ],
   "source": [
    "max_seat = 0\n",
    "for seat in seat_list:\n",
    "    row, column = seat_parser(seat)\n",
    "    seat_id = row * 8 + column\n",
    "    if seat_id > max_seat:\n",
    "        max_seat = seat_id\n",
    "print(max_seat)"
   ]
  },
  {
   "cell_type": "code",
   "execution_count": 58,
   "metadata": {},
   "outputs": [],
   "source": [
    "seat_numbers = [seat_parser(seat)[0]*8 + seat_parser(seat)[1] for seat in seat_list]"
   ]
  },
  {
   "cell_type": "code",
   "execution_count": 59,
   "metadata": {},
   "outputs": [],
   "source": [
    "seat_numbers.sort()"
   ]
  },
  {
   "cell_type": "code",
   "execution_count": 71,
   "metadata": {},
   "outputs": [],
   "source": [
    "neighbours = []\n",
    "for i in range(1, len(seat_numbers) -1):\n",
    "    if not(seat_numbers[i-1]+1 == seat_numbers[i] == seat_numbers[i+1]-1):\n",
    "        neighbours.append(seat_numbers[i])\n",
    "        "
   ]
  },
  {
   "cell_type": "code",
   "execution_count": 73,
   "metadata": {},
   "outputs": [
    {
     "name": "stdout",
     "output_type": "stream",
     "text": [
      "[13, 730, 732]\n"
     ]
    }
   ],
   "source": [
    "print(neighbours)"
   ]
  }
 ],
 "metadata": {
  "kernelspec": {
   "display_name": "Python 3",
   "language": "python",
   "name": "python3"
  },
  "language_info": {
   "codemirror_mode": {
    "name": "ipython",
    "version": 3
   },
   "file_extension": ".py",
   "mimetype": "text/x-python",
   "name": "python",
   "nbconvert_exporter": "python",
   "pygments_lexer": "ipython3",
   "version": "3.7.4"
  }
 },
 "nbformat": 4,
 "nbformat_minor": 2
}
