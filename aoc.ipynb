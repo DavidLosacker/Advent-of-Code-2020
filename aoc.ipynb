{
 "cells": [
  {
   "cell_type": "markdown",
   "metadata": {},
   "source": [
    "# Day 1"
   ]
  },
  {
   "cell_type": "code",
   "execution_count": null,
   "metadata": {},
   "outputs": [],
   "source": [
    "with open(\"Day_1_list.txt\", \"r\") as f:\n",
    "    information = f.read()"
   ]
  },
  {
   "cell_type": "code",
   "execution_count": 5,
   "metadata": {},
   "outputs": [],
   "source": [
    "info_list = information.split('\\n')"
   ]
  },
  {
   "cell_type": "code",
   "execution_count": 8,
   "metadata": {},
   "outputs": [
    {
     "name": "stdout",
     "output_type": "stream",
     "text": [
      "1917 103\n",
      "197451\n",
      "103 1917\n",
      "197451\n"
     ]
    }
   ],
   "source": [
    "for information_1 in info_list:\n",
    "    for information_2 in info_list:\n",
    "        if int(information_1) + int(information_2) == 2020:\n",
    "            print(information_1, information_2)\n",
    "            print(int(information_1) * int(information_2))\n",
    "            "
   ]
  },
  {
   "cell_type": "code",
   "execution_count": 10,
   "metadata": {},
   "outputs": [
    {
     "name": "stdout",
     "output_type": "stream",
     "text": [
      "443 232 1345\n",
      "138233720\n",
      "443 1345 232\n",
      "138233720\n",
      "232 443 1345\n",
      "138233720\n",
      "232 1345 443\n",
      "138233720\n",
      "1345 443 232\n",
      "138233720\n",
      "1345 232 443\n",
      "138233720\n"
     ]
    }
   ],
   "source": [
    "for information_1 in info_list:\n",
    "    for information_2 in info_list:\n",
    "        for information_3 in info_list:\n",
    "            if int(information_1) + int(information_2) + int(information_3) == 2020:\n",
    "                print(information_1, information_2, information_3)\n",
    "                print(int(information_1) * int(information_2) * int(information_3))"
   ]
  },
  {
   "cell_type": "markdown",
   "metadata": {},
   "source": [
    "# Day 2"
   ]
  },
  {
   "cell_type": "code",
   "execution_count": 2,
   "metadata": {},
   "outputs": [],
   "source": [
    "with open(\"Day_2_list.txt\", \"r\") as f:\n",
    "    passwords = f.read()\n",
    "    \n",
    "password_list = passwords.split('\\n')"
   ]
  },
  {
   "cell_type": "code",
   "execution_count": 23,
   "metadata": {},
   "outputs": [
    {
     "name": "stdout",
     "output_type": "stream",
     "text": [
      "620\n"
     ]
    }
   ],
   "source": [
    "counter = 0\n",
    "\n",
    "for password in password_list:\n",
    "    letter_min = int(password.split('-')[0])\n",
    "    letter_max = int(password.split('-')[1].split(' ')[0])\n",
    "    letter = password.split('-')[1].split(' ')[1][0]\n",
    "    password_string = password.split(':')[1]\n",
    "    character_counter = 0\n",
    "    for character in password_string:\n",
    "        if letter == character:\n",
    "            character_counter += 1\n",
    "    if character_counter >= letter_min and character_counter <= letter_max:\n",
    "        counter += 1\n",
    "print(counter)\n"
   ]
  },
  {
   "cell_type": "code",
   "execution_count": 5,
   "metadata": {
    "scrolled": true
   },
   "outputs": [
    {
     "name": "stdout",
     "output_type": "stream",
     "text": [
      "727\n"
     ]
    }
   ],
   "source": [
    "counter = 0\n",
    "\n",
    "for password in password_list:\n",
    "    letter_min = int(password.split('-')[0])\n",
    "    letter_max = int(password.split('-')[1].split(' ')[0])\n",
    "    letter = password.split('-')[1].split(' ')[1][0]\n",
    "    password_string = password.split(':')[1]\n",
    "    if ((password_string[letter_min] == letter) != (password_string[letter_max] == letter)):\n",
    "        counter += 1\n",
    "        \n",
    "print(counter)"
   ]
  },
  {
   "cell_type": "markdown",
   "metadata": {},
   "source": [
    "# Day 3"
   ]
  },
  {
   "cell_type": "code",
   "execution_count": 8,
   "metadata": {},
   "outputs": [],
   "source": [
    "with open(\"Day_3_list.txt\", \"r\") as f:\n",
    "    tree_map = f.read()"
   ]
  },
  {
   "cell_type": "code",
   "execution_count": 10,
   "metadata": {},
   "outputs": [],
   "source": [
    "tree_map_list = tree_map.split('\\n')"
   ]
  },
  {
   "cell_type": "code",
   "execution_count": 48,
   "metadata": {},
   "outputs": [
    {
     "name": "stdout",
     "output_type": "stream",
     "text": [
      "148\n"
     ]
    }
   ],
   "source": [
    "downway = 1\n",
    "rightway = 3\n",
    "\n",
    "right = 0\n",
    "trees = 0\n",
    "for elem in tree_map_list[::downway]:\n",
    "    if elem[right % len(elem)] == '#':\n",
    "        trees += 1\n",
    "    right += rightway\n",
    "print(trees)\n",
    "    "
   ]
  },
  {
   "cell_type": "code",
   "execution_count": 49,
   "metadata": {},
   "outputs": [],
   "source": [
    "def get_trees(rightway, downway):\n",
    "    right = 0\n",
    "    trees = 0\n",
    "    for elem in tree_map_list[::downway]:\n",
    "        if elem[right % len(elem)] == '#':\n",
    "            trees += 1\n",
    "        right += rightway\n",
    "    return trees"
   ]
  },
  {
   "cell_type": "code",
   "execution_count": 50,
   "metadata": {},
   "outputs": [
    {
     "name": "stdout",
     "output_type": "stream",
     "text": [
      "727923200\n"
     ]
    }
   ],
   "source": [
    "total_trees_mult = 1\n",
    "for right, down in [(1, 1), (3, 1), (5, 1), (7, 1), (1, 2)]:\n",
    "    total_trees_mult *= get_trees(right, down)\n",
    "print(total_trees_mult)"
   ]
  }
 ],
 "metadata": {
  "kernelspec": {
   "display_name": "Python 3",
   "language": "python",
   "name": "python3"
  },
  "language_info": {
   "codemirror_mode": {
    "name": "ipython",
    "version": 3
   },
   "file_extension": ".py",
   "mimetype": "text/x-python",
   "name": "python",
   "nbconvert_exporter": "python",
   "pygments_lexer": "ipython3",
   "version": "3.7.4"
  }
 },
 "nbformat": 4,
 "nbformat_minor": 2
}
