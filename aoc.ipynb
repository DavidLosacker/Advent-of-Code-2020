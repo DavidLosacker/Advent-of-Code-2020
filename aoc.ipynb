{
 "cells": [
  {
   "cell_type": "markdown",
   "metadata": {},
   "source": [
    "# Day 1"
   ]
  },
  {
   "cell_type": "code",
   "execution_count": null,
   "metadata": {},
   "outputs": [],
   "source": [
    "with open(\"Day_1_list.txt\", \"r\") as f:\n",
    "    information = f.read()"
   ]
  },
  {
   "cell_type": "code",
   "execution_count": null,
   "metadata": {},
   "outputs": [],
   "source": [
    "info_list = information.split('\\n')"
   ]
  },
  {
   "cell_type": "code",
   "execution_count": null,
   "metadata": {},
   "outputs": [],
   "source": [
    "for information_1 in info_list:\n",
    "    for information_2 in info_list:\n",
    "        if int(information_1) + int(information_2) == 2020:\n",
    "            print(information_1, information_2)\n",
    "            print(int(information_1) * int(information_2))\n",
    "            "
   ]
  },
  {
   "cell_type": "code",
   "execution_count": null,
   "metadata": {},
   "outputs": [],
   "source": [
    "for information_1 in info_list:\n",
    "    for information_2 in info_list:\n",
    "        for information_3 in info_list:\n",
    "            if int(information_1) + int(information_2) + int(information_3) == 2020:\n",
    "                print(information_1, information_2, information_3)\n",
    "                print(int(information_1) * int(information_2) * int(information_3))"
   ]
  },
  {
   "cell_type": "markdown",
   "metadata": {},
   "source": [
    "# Day 2"
   ]
  },
  {
   "cell_type": "code",
   "execution_count": null,
   "metadata": {},
   "outputs": [],
   "source": [
    "with open(\"Day_2_list.txt\", \"r\") as f:\n",
    "    passwords = f.read()\n",
    "    \n",
    "password_list = passwords.split('\\n')"
   ]
  },
  {
   "cell_type": "code",
   "execution_count": null,
   "metadata": {},
   "outputs": [],
   "source": [
    "counter = 0\n",
    "\n",
    "for password in password_list:\n",
    "    letter_min = int(password.split('-')[0])\n",
    "    letter_max = int(password.split('-')[1].split(' ')[0])\n",
    "    letter = password.split('-')[1].split(' ')[1][0]\n",
    "    password_string = password.split(':')[1]\n",
    "    character_counter = 0\n",
    "    for character in password_string:\n",
    "        if letter == character:\n",
    "            character_counter += 1\n",
    "    if character_counter >= letter_min and character_counter <= letter_max:\n",
    "        counter += 1\n",
    "print(counter)\n"
   ]
  },
  {
   "cell_type": "code",
   "execution_count": null,
   "metadata": {
    "scrolled": true
   },
   "outputs": [],
   "source": [
    "counter = 0\n",
    "\n",
    "for password in password_list:\n",
    "    letter_min = int(password.split('-')[0])\n",
    "    letter_max = int(password.split('-')[1].split(' ')[0])\n",
    "    letter = password.split('-')[1].split(' ')[1][0]\n",
    "    password_string = password.split(':')[1]\n",
    "    if ((password_string[letter_min] == letter) != (password_string[letter_max] == letter)):\n",
    "        counter += 1\n",
    "        \n",
    "print(counter)"
   ]
  },
  {
   "cell_type": "markdown",
   "metadata": {},
   "source": [
    "# Day 3"
   ]
  },
  {
   "cell_type": "code",
   "execution_count": null,
   "metadata": {},
   "outputs": [],
   "source": [
    "with open(\"Day_3_list.txt\", \"r\") as f:\n",
    "    tree_map = f.read()"
   ]
  },
  {
   "cell_type": "code",
   "execution_count": null,
   "metadata": {},
   "outputs": [],
   "source": [
    "tree_map_list = tree_map.split('\\n')"
   ]
  },
  {
   "cell_type": "code",
   "execution_count": null,
   "metadata": {},
   "outputs": [],
   "source": [
    "downway = 1\n",
    "rightway = 3\n",
    "\n",
    "right = 0\n",
    "trees = 0\n",
    "for elem in tree_map_list[::downway]:\n",
    "    if elem[right % len(elem)] == '#':\n",
    "        trees += 1\n",
    "    right += rightway\n",
    "print(trees)\n",
    "    "
   ]
  },
  {
   "cell_type": "code",
   "execution_count": null,
   "metadata": {},
   "outputs": [],
   "source": [
    "def get_trees(rightway, downway):\n",
    "    right = 0\n",
    "    trees = 0\n",
    "    for elem in tree_map_list[::downway]:\n",
    "        if elem[right % len(elem)] == '#':\n",
    "            trees += 1\n",
    "        right += rightway\n",
    "    return trees"
   ]
  },
  {
   "cell_type": "code",
   "execution_count": null,
   "metadata": {},
   "outputs": [],
   "source": [
    "total_trees_mult = 1\n",
    "for right, down in [(1, 1), (3, 1), (5, 1), (7, 1), (1, 2)]:\n",
    "    total_trees_mult *= get_trees(right, down)\n",
    "print(total_trees_mult)"
   ]
  },
  {
   "cell_type": "markdown",
   "metadata": {},
   "source": [
    "# Day 4"
   ]
  },
  {
   "cell_type": "code",
   "execution_count": null,
   "metadata": {},
   "outputs": [],
   "source": [
    "import re"
   ]
  },
  {
   "cell_type": "code",
   "execution_count": null,
   "metadata": {},
   "outputs": [],
   "source": [
    "required = [\"byr\", \"iyr\", \"eyr\", \"hgt\", \"hcl\", \"ecl\", \"pid\"]\n",
    "optional = [\"cid\"]"
   ]
  },
  {
   "cell_type": "code",
   "execution_count": null,
   "metadata": {},
   "outputs": [],
   "source": [
    "with open(\"Day_4_list.txt\") as f:\n",
    "    passports = f.readlines()"
   ]
  },
  {
   "cell_type": "code",
   "execution_count": null,
   "metadata": {},
   "outputs": [],
   "source": [
    "clean_passports = []\n",
    "new_dic = {}\n",
    "for line in passports:\n",
    "    if line != '\\n':\n",
    "        key_value = line.split(' ')\n",
    "        for i, elem in enumerate(key_value):\n",
    "            if i == len(key_value) -1:\n",
    "                new_dic[elem.split(':')[0]] = elem.split(':')[1].replace('\\n', '')\n",
    "            else:\n",
    "                new_dic[elem.split(':')[0]] = elem.split(':')[1]\n",
    "    else:\n",
    "        clean_passports.append(new_dic)\n",
    "        new_dic = {}\n",
    "\n",
    "clean_passports.append(new_dic)        \n",
    "        \n",
    "valid = 0\n",
    "valid_passports = []\n",
    "for passport in clean_passports:\n",
    "    if set(passport) >= set(required):\n",
    "        valid += 1\n",
    "        valid_passports.append(passport)\n",
    "print(valid)"
   ]
  },
  {
   "cell_type": "code",
   "execution_count": null,
   "metadata": {},
   "outputs": [],
   "source": [
    "counter = 0\n",
    "for passport in valid_passports:\n",
    "    try:\n",
    "        if int(passport['byr']) >= 1920 and int(passport['byr']) <= 2002:\n",
    "            if int(passport['iyr']) >= 2010 and int(passport['iyr']) <= 2020:\n",
    "                if int(passport['eyr']) >= 2020 and int(passport['eyr']) <= 2030:\n",
    "                    try:\n",
    "                        height = int((passport['hgt'])[0:-2])\n",
    "                        if (passport['hgt'][-2:] == 'cm' and height <= 193 and height >= 150) or (passport['hgt'][-2:] == 'in' and height <= 76 and height >= 59):                            \n",
    "                            if passport['ecl'] in [\"amb\", \"blu\", \"brn\", \"gry\", \"grn\", \"hzl\", \"oth\"]:\n",
    "                                if re.fullmatch(r\"#+[0-9a-f]{6}\", passport['hcl']):\n",
    "                                    if len(passport['pid']) == 9:\n",
    "                                        counter += 1\n",
    "                                    \n",
    "                    except:\n",
    "                        print('Invalid height format')\n",
    "                        \n",
    "    except:\n",
    "        print('Invalid data type')\n",
    "\n",
    "\n",
    "print(counter)"
   ]
  },
  {
   "cell_type": "markdown",
   "metadata": {},
   "source": [
    "# Day 5"
   ]
  },
  {
   "cell_type": "code",
   "execution_count": null,
   "metadata": {},
   "outputs": [],
   "source": [
    "with open(\"Day_5_list.txt\", 'r') as f:\n",
    "    seats = f.read()"
   ]
  },
  {
   "cell_type": "code",
   "execution_count": null,
   "metadata": {},
   "outputs": [],
   "source": [
    "seat_list = seats.split('\\n')"
   ]
  },
  {
   "cell_type": "code",
   "execution_count": null,
   "metadata": {},
   "outputs": [],
   "source": [
    "parser = {\n",
    "    \"F\" : 0,\n",
    "    \"B\" : 1,\n",
    "    \"R\" : 1,\n",
    "    \"L\" : 0\n",
    "}"
   ]
  },
  {
   "cell_type": "code",
   "execution_count": null,
   "metadata": {},
   "outputs": [],
   "source": [
    "def seat_parser(seat):\n",
    "    row = 0\n",
    "    column = 0\n",
    "    for i, letter in enumerate(seat):\n",
    "        if i <= 6:\n",
    "            row += parser[letter] * 2**(6-i)\n",
    "        else:\n",
    "            column += parser[letter] * 2**(9-i)            \n",
    "    return row, column"
   ]
  },
  {
   "cell_type": "code",
   "execution_count": null,
   "metadata": {},
   "outputs": [],
   "source": [
    "seat_numbers = [seat_parser(seat)[0]*8 + seat_parser(seat)[1] for seat in seat_list]"
   ]
  },
  {
   "cell_type": "code",
   "execution_count": null,
   "metadata": {},
   "outputs": [],
   "source": [
    "print(max(seat_numbers))"
   ]
  },
  {
   "cell_type": "code",
   "execution_count": null,
   "metadata": {},
   "outputs": [],
   "source": [
    "seat_numbers.sort()"
   ]
  },
  {
   "cell_type": "code",
   "execution_count": null,
   "metadata": {},
   "outputs": [],
   "source": [
    "neighbours = []\n",
    "for i in range(1, len(seat_numbers) -1):\n",
    "    if not(seat_numbers[i-1]+1 == seat_numbers[i] == seat_numbers[i+1]-1):\n",
    "        neighbours.append(seat_numbers[i])\n",
    "        "
   ]
  },
  {
   "cell_type": "code",
   "execution_count": null,
   "metadata": {},
   "outputs": [],
   "source": [
    "print(neighbours)"
   ]
  },
  {
   "cell_type": "markdown",
   "metadata": {},
   "source": [
    "# Day 6"
   ]
  },
  {
   "cell_type": "code",
   "execution_count": null,
   "metadata": {},
   "outputs": [],
   "source": [
    "with open(\"Day_6_list.txt\", 'r') as f:\n",
    "    group_questions = f.read()"
   ]
  },
  {
   "cell_type": "code",
   "execution_count": null,
   "metadata": {},
   "outputs": [],
   "source": [
    "modified_questions = group_questions.split('\\n\\n')"
   ]
  },
  {
   "cell_type": "code",
   "execution_count": null,
   "metadata": {},
   "outputs": [],
   "source": [
    "counter = 0\n",
    "for question in modified_questions:\n",
    "    counter += len(set(question.replace('\\n', '')))\n",
    "print(counter)"
   ]
  },
  {
   "cell_type": "code",
   "execution_count": null,
   "metadata": {},
   "outputs": [],
   "source": [
    "counter = 0\n",
    "for question in modified_questions:\n",
    "    separated_questions = [set(ind_question) for ind_question in question.split('\\n')]\n",
    "    intersection_start = separated_questions[0]\n",
    "    for ind_question in separated_questions:\n",
    "        if ind_question != set():\n",
    "            intersection_start = intersection_start.intersection(ind_question)\n",
    "    counter += len(intersection_start)\n",
    "\n",
    "print(counter)"
   ]
  },
  {
   "cell_type": "markdown",
   "metadata": {},
   "source": [
    "# Day 7"
   ]
  },
  {
   "cell_type": "code",
   "execution_count": null,
   "metadata": {},
   "outputs": [],
   "source": [
    "with open('Day_7_list.txt', 'r') as f:\n",
    "    bags = f.readlines()"
   ]
  },
  {
   "cell_type": "code",
   "execution_count": null,
   "metadata": {},
   "outputs": [],
   "source": [
    "bags_dic = {}\n",
    "for bag in bags:\n",
    "    key = bag.split('bags')[0][:-1]\n",
    "    elems = bag.split('contain ')[1].replace('\\n', '').replace('bags', '').replace('bag', '').replace('.', '')\n",
    "    sub_dic = {}\n",
    "    for elem in elems.split(', '):\n",
    "        if elem != 'no other ':\n",
    "            sub_dic[elem[2:-1]] = elem[0]\n",
    "    bags_dic[key] = sub_dic\n",
    "    "
   ]
  },
  {
   "cell_type": "code",
   "execution_count": null,
   "metadata": {},
   "outputs": [],
   "source": [
    "def get_outer_bags_length(input_bag, outer_bags):\n",
    "    for key, value in bags_dic.items():\n",
    "        if input_bag in value.keys():\n",
    "            get_outer_bags_length(key, outer_bags)\n",
    "            outer_bags.add(key)\n",
    "    return len(outer_bags)\n"
   ]
  },
  {
   "cell_type": "code",
   "execution_count": null,
   "metadata": {},
   "outputs": [],
   "source": [
    "get_outer_bags_length('shiny gold', set())"
   ]
  },
  {
   "cell_type": "code",
   "execution_count": null,
   "metadata": {},
   "outputs": [],
   "source": [
    "def get_bags_amount(input_bag, amount):\n",
    "    for key, value in bags_dic[input_bag].items():\n",
    "        amount = amount + int(value) + int(value) * get_bags_amount(key, 0)\n",
    "    return amount"
   ]
  },
  {
   "cell_type": "code",
   "execution_count": null,
   "metadata": {},
   "outputs": [],
   "source": [
    "get_bags_amount('shiny gold', 0)"
   ]
  },
  {
   "cell_type": "markdown",
   "metadata": {},
   "source": [
    "# Day 8"
   ]
  },
  {
   "cell_type": "code",
   "execution_count": null,
   "metadata": {},
   "outputs": [],
   "source": [
    "with open('Day_8_list.txt', 'r') as f:\n",
    "    instructions = f.readlines()"
   ]
  },
  {
   "cell_type": "code",
   "execution_count": null,
   "metadata": {},
   "outputs": [],
   "source": [
    "def get_last_acc(instructions):\n",
    "    acc = 0\n",
    "    i = 0\n",
    "    is_infinite = False\n",
    "    executed = []\n",
    "    while True:\n",
    "        if i >= len(instructions):\n",
    "            break\n",
    "        instruction = instructions[i].replace('\\n', '')\n",
    "        operation = instruction.split(' ')[0]\n",
    "        value = int(instruction.split(' ')[1])\n",
    "        if i in executed:\n",
    "            is_infinite = True\n",
    "            break\n",
    "        executed.append(i)\n",
    "        if operation == 'acc':\n",
    "            acc += value\n",
    "            i += 1\n",
    "        elif operation == 'jmp':\n",
    "            i += value\n",
    "        else:\n",
    "            i += 1\n",
    "    return acc, is_infinite"
   ]
  },
  {
   "cell_type": "code",
   "execution_count": null,
   "metadata": {},
   "outputs": [],
   "source": [
    "get_last_acc(instructions)[0]"
   ]
  },
  {
   "cell_type": "code",
   "execution_count": null,
   "metadata": {},
   "outputs": [],
   "source": [
    "for i, instruction in enumerate(instructions):\n",
    "    temp_list = instructions.copy()\n",
    "    if instruction.startswith('jmp'):\n",
    "        new_instruction = instruction.replace('jmp', 'nop')\n",
    "        temp_list[i] = new_instruction\n",
    "        if not get_last_acc(temp_list)[1]:\n",
    "            print(get_last_acc(temp_list)[0])\n",
    "            break\n",
    "    elif instruction.startswith('nop'):\n",
    "        new_instruction = instruction.replace('nop', 'jmp')\n",
    "        temp_list[i] = new_instruction\n",
    "        if not get_last_acc(temp_list)[1]:\n",
    "            print(get_last_acc(temp_list)[0])\n",
    "            break"
   ]
  },
  {
   "cell_type": "markdown",
   "metadata": {},
   "source": [
    "# Day 9"
   ]
  },
  {
   "cell_type": "code",
   "execution_count": 1,
   "metadata": {},
   "outputs": [],
   "source": [
    "with open(\"Day_9_list.txt\", 'r') as f:\n",
    "    xmas_code = f.read()"
   ]
  },
  {
   "cell_type": "code",
   "execution_count": 2,
   "metadata": {},
   "outputs": [],
   "source": [
    "xmas_code_list = xmas_code.split('\\n')"
   ]
  },
  {
   "cell_type": "code",
   "execution_count": 3,
   "metadata": {},
   "outputs": [
    {
     "name": "stdout",
     "output_type": "stream",
     "text": [
      "257342611\n"
     ]
    }
   ],
   "source": [
    "i = 0\n",
    "for number in xmas_code_list[25+i:]:\n",
    "    sums = []\n",
    "    for j, prev_number_1 in enumerate(xmas_code_list[i:25+i]):\n",
    "        for prev_number_2 in xmas_code_list[i+j:25+i]:\n",
    "            sums.append(int(prev_number_1)+int(prev_number_2))\n",
    "    i += 1\n",
    "    if int(number) not in sums:\n",
    "        print(number)\n",
    "        break\n",
    "            "
   ]
  },
  {
   "cell_type": "code",
   "execution_count": 4,
   "metadata": {},
   "outputs": [
    {
     "name": "stdout",
     "output_type": "stream",
     "text": [
      "457 16\n"
     ]
    }
   ],
   "source": [
    "i = 0\n",
    "searching = True\n",
    "while searching:\n",
    "    result = 0\n",
    "    for j, number in enumerate(xmas_code_list[i:]):\n",
    "        result += int(number)\n",
    "        if result == 257342611:\n",
    "            print(i, j)\n",
    "            searching = False\n",
    "            break\n",
    "        if result > 257342611:\n",
    "            break\n",
    "    i += 1\n",
    "        "
   ]
  },
  {
   "cell_type": "code",
   "execution_count": 5,
   "metadata": {},
   "outputs": [],
   "source": [
    "int_xmas = [int(value) for value in xmas_code_list[457:457+17]]"
   ]
  },
  {
   "cell_type": "code",
   "execution_count": 6,
   "metadata": {},
   "outputs": [
    {
     "data": {
      "text/plain": [
       "35602097"
      ]
     },
     "execution_count": 6,
     "metadata": {},
     "output_type": "execute_result"
    }
   ],
   "source": [
    "max(int_xmas) + min(int_xmas)"
   ]
  },
  {
   "cell_type": "markdown",
   "metadata": {},
   "source": [
    "# Day 10 "
   ]
  },
  {
   "cell_type": "code",
   "execution_count": 62,
   "metadata": {},
   "outputs": [],
   "source": [
    "with open('Day_10_list.txt', 'r') as f:\n",
    "    adapters = f.read()"
   ]
  },
  {
   "cell_type": "code",
   "execution_count": 63,
   "metadata": {},
   "outputs": [],
   "source": [
    "adapters_list = adapters.split('\\n')"
   ]
  },
  {
   "cell_type": "code",
   "execution_count": 64,
   "metadata": {},
   "outputs": [],
   "source": [
    "adapters_list = [int(adapter) for adapter in adapters_list if adapter != '']\n",
    "adapters_list.append(0)\n",
    "adapters_list.append(max(adapters_list)+3)"
   ]
  },
  {
   "cell_type": "code",
   "execution_count": 65,
   "metadata": {},
   "outputs": [],
   "source": [
    "adapters_list.sort()"
   ]
  },
  {
   "cell_type": "code",
   "execution_count": 66,
   "metadata": {},
   "outputs": [
    {
     "name": "stdout",
     "output_type": "stream",
     "text": [
      "1856\n"
     ]
    }
   ],
   "source": [
    "ones = 0\n",
    "threes = 0\n",
    "for i in range((len(adapters_list)-1)):\n",
    "    if adapters_list[i+1] - adapters_list[i] == 1:\n",
    "        ones += 1\n",
    "    elif adapters_list[i+1] - adapters_list[i] == 3:\n",
    "        threes += 1\n",
    "print(ones*threes)"
   ]
  },
  {
   "cell_type": "code",
   "execution_count": 159,
   "metadata": {},
   "outputs": [],
   "source": [
    "steps = {}\n",
    "for i in range(0, len(adapters_list)-1):\n",
    "    steps[adapters_list[i]] = []\n",
    "    for j in range(1, 4):\n",
    "        if adapters_list[i] + j == adapters_list[i + 1]:\n",
    "            steps[adapters_list[i]].append(j)\n",
    "        if i < len(adapters_list)-2 and adapters_list[i] + j == adapters_list[i + 2]:\n",
    "            steps[adapters_list[i]].append(j)\n",
    "        if i < len(adapters_list)-3 and adapters_list[i] + j == adapters_list[i + 3]:\n",
    "            steps[adapters_list[i]].append(j)"
   ]
  },
  {
   "cell_type": "code",
   "execution_count": 180,
   "metadata": {},
   "outputs": [],
   "source": [
    "options = []\n",
    "prev_value = [1, 2, 3]\n",
    "for value in steps.values():\n",
    "    if [len(prev_value), len(value)] not in options:\n",
    "        options.append([len(prev_value), len(value)])\n",
    "    prev_value = value"
   ]
  },
  {
   "cell_type": "code",
   "execution_count": 181,
   "metadata": {},
   "outputs": [
    {
     "data": {
      "text/plain": [
       "[[3, 3], [3, 2], [2, 1], [1, 1], [1, 3], [1, 2]]"
      ]
     },
     "execution_count": 181,
     "metadata": {},
     "output_type": "execute_result"
    }
   ],
   "source": [
    "options"
   ]
  },
  {
   "cell_type": "code",
   "execution_count": 164,
   "metadata": {},
   "outputs": [],
   "source": [
    "counter = 1\n",
    "for step, values in steps.items():\n",
    "    if len(values) == 3 and len(prev_values) == 1:\n",
    "        counter *= 4\n",
    "    if len(values) == 3 and len(prev_values) == 3:\n",
    "        counter /= 4\n",
    "        counter *= 7\n",
    "    if len(values) == 2 and len(prev_values) == 1:\n",
    "        counter *= 2\n",
    "    prev_values = values.copy()"
   ]
  },
  {
   "cell_type": "code",
   "execution_count": 165,
   "metadata": {},
   "outputs": [
    {
     "name": "stdout",
     "output_type": "stream",
     "text": [
      "2314037239808.0\n"
     ]
    }
   ],
   "source": [
    "print(counter)"
   ]
  }
 ],
 "metadata": {
  "kernelspec": {
   "display_name": "Python 3",
   "language": "python",
   "name": "python3"
  },
  "language_info": {
   "codemirror_mode": {
    "name": "ipython",
    "version": 3
   },
   "file_extension": ".py",
   "mimetype": "text/x-python",
   "name": "python",
   "nbconvert_exporter": "python",
   "pygments_lexer": "ipython3",
   "version": "3.7.4"
  }
 },
 "nbformat": 4,
 "nbformat_minor": 2
}
